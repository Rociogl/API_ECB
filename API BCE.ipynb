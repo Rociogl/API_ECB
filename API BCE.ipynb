{
 "cells": [
  {
   "cell_type": "markdown",
   "metadata": {},
   "source": [
    "<img src='https://i.ibb.co/Lpy4XvR/data-warehouse.jpg' width=70% left>"
   ]
  },
  {
   "cell_type": "markdown",
   "metadata": {},
   "source": [
    "<font color='darkblue'> <div style=\"text-align: center\">\n",
    "\n",
    "\n",
    "#  *API - European Central Bank (ECB)*\n",
    "\n",
    "<font>\n",
    "<br><br>\n"
   ]
  },
  {
   "cell_type": "markdown",
   "metadata": {},
   "source": [
    "The ECB SDMX 2.1 RESTful web service offers programmatic access to the statistical data and metadata disseminated via the ECB Statistical Data Warehouse. https://sdw-wsrest.ecb.europa.eu/help/"
   ]
  },
  {
   "cell_type": "markdown",
   "metadata": {},
   "source": [
    " Official Website https://sdw.ecb.europa.eu/"
   ]
  },
  {
   "cell_type": "code",
   "execution_count": 318,
   "metadata": {},
   "outputs": [
    {
     "data": {
      "text/html": [
       "<script>code_show=true; function code_toggle() {if (code_show){ $('div.input').hide(); } else {$('div.input').show();}\n",
       "code_show = !code_show} $( document ).ready(code_toggle);</script>Para mostrar u ocultar el código haz click  <a href=\"javascript:code_toggle()\">aquí</a>."
      ],
      "text/plain": [
       "<IPython.core.display.HTML object>"
      ]
     },
     "execution_count": 318,
     "metadata": {},
     "output_type": "execute_result"
    }
   ],
   "source": [
    "HTML('''<script>code_show=true; function code_toggle() {if (code_show){$('div.input').hide();} else {$('div.input').show();}code_show = !code_show} $( document ).ready(code_toggle);</script>Para mostrar u ocultar el código haz click <a href=\"javascript:code_toggle()\">aquí</a>.''')\n",
    "HTML('''<script>code_show=true; function code_toggle() {if (code_show){ $('div.input').hide(); } else {$('div.input').show();}\n",
    "code_show = !code_show} $( document ).ready(code_toggle);</script>Para mostrar u ocultar el código haz click  <a href=\"javascript:code_toggle()\">aquí</a>.''') "
   ]
  },
  {
   "cell_type": "markdown",
   "metadata": {},
   "source": [
    "<br><br><font color=\"darkblue\"> <div style=\"text-align: center\">\n",
    "\n",
    "## Libraries"
   ]
  },
  {
   "cell_type": "code",
   "execution_count": 320,
   "metadata": {},
   "outputs": [],
   "source": [
    "from IPython.display import HTML\n",
    "import requests\n",
    "import pandas as pd\n",
    "import seaborn as sns\n",
    "import matplotlib.pyplot as plt"
   ]
  },
  {
   "cell_type": "markdown",
   "metadata": {},
   "source": [
    "<br><br><font color=\"darkblue\"> <div style=\"text-align: center\">\n",
    "\n",
    "# Bank interest rates\n",
    "\n",
    "## *Loans to households for consumption with a floating rate and an IRF period of up to one year (new business) - euro area*\n",
    "\n",
    "*Bank interest rate statistics consist of data on interest rates that resident monetary financial institutions (MFIs) except central banks and money market funds apply to the euro-denominated deposits of, and loans to, households and non-financial corporations resident in the euro area, as well as data on the volumes involved. These harmonised statistics are used to analyse monetary developments and the monetary transmission mechanism, and to monitor financial stability.*\n",
    "\n",
    "*Frequency: Monthly*\n",
    "\n",
    "*Reference area: Euro area*\n"
   ]
  },
  {
   "cell_type": "code",
   "execution_count": 347,
   "metadata": {},
   "outputs": [],
   "source": [
    "url = 'https://sdw-wsrest.ecb.europa.eu/service/data/'\n",
    "headers  = {'Accept':'application/json'}\n",
    "key_bank_interest_rate = 'MIR/M.DE+ES+FR+PT+IT+GR+BE+DE+GB+IE.B.A2B.F.R.A.2250.EUR.N'\n",
    "\n",
    "json = requests.get(f'{url}{key_bank_interest_rate}', headers =headers ).json()\n",
    "text = requests.get('{}{}'.format(url, key_bank_interest_rate), headers=headers).text\n",
    "#print(text)"
   ]
  },
  {
   "cell_type": "code",
   "execution_count": 348,
   "metadata": {},
   "outputs": [
    {
     "data": {
      "text/html": [
       "<div>\n",
       "<style scoped>\n",
       "    .dataframe tbody tr th:only-of-type {\n",
       "        vertical-align: middle;\n",
       "    }\n",
       "\n",
       "    .dataframe tbody tr th {\n",
       "        vertical-align: top;\n",
       "    }\n",
       "\n",
       "    .dataframe thead th {\n",
       "        text-align: right;\n",
       "    }\n",
       "</style>\n",
       "<table border=\"1\" class=\"dataframe\">\n",
       "  <thead>\n",
       "    <tr style=\"text-align: right;\">\n",
       "      <th></th>\n",
       "      <th>Belgium</th>\n",
       "      <th>Germany</th>\n",
       "      <th>Spain</th>\n",
       "      <th>France</th>\n",
       "      <th>Greece</th>\n",
       "      <th>Ireland</th>\n",
       "      <th>Italy</th>\n",
       "      <th>Portugal</th>\n",
       "    </tr>\n",
       "  </thead>\n",
       "  <tbody>\n",
       "    <tr>\n",
       "      <th>2019-10</th>\n",
       "      <td>3.08</td>\n",
       "      <td>9.23</td>\n",
       "      <td>3.80</td>\n",
       "      <td>5.12</td>\n",
       "      <td>10.29</td>\n",
       "      <td>8.72</td>\n",
       "      <td>3.88</td>\n",
       "      <td>4.99</td>\n",
       "    </tr>\n",
       "    <tr>\n",
       "      <th>2019-11</th>\n",
       "      <td>3.58</td>\n",
       "      <td>8.54</td>\n",
       "      <td>2.57</td>\n",
       "      <td>5.38</td>\n",
       "      <td>10.69</td>\n",
       "      <td>8.66</td>\n",
       "      <td>3.75</td>\n",
       "      <td>5.06</td>\n",
       "    </tr>\n",
       "    <tr>\n",
       "      <th>2019-12</th>\n",
       "      <td>3.03</td>\n",
       "      <td>8.59</td>\n",
       "      <td>2.92</td>\n",
       "      <td>4.59</td>\n",
       "      <td>10.94</td>\n",
       "      <td>9.15</td>\n",
       "      <td>3.76</td>\n",
       "      <td>4.75</td>\n",
       "    </tr>\n",
       "    <tr>\n",
       "      <th>2020-01</th>\n",
       "      <td>3.61</td>\n",
       "      <td>8.94</td>\n",
       "      <td>3.77</td>\n",
       "      <td>3.85</td>\n",
       "      <td>11.18</td>\n",
       "      <td>8.69</td>\n",
       "      <td>3.65</td>\n",
       "      <td>4.98</td>\n",
       "    </tr>\n",
       "    <tr>\n",
       "      <th>2020-02</th>\n",
       "      <td>3.18</td>\n",
       "      <td>8.15</td>\n",
       "      <td>3.30</td>\n",
       "      <td>4.64</td>\n",
       "      <td>10.65</td>\n",
       "      <td>8.30</td>\n",
       "      <td>3.46</td>\n",
       "      <td>4.67</td>\n",
       "    </tr>\n",
       "  </tbody>\n",
       "</table>\n",
       "</div>"
      ],
      "text/plain": [
       "         Belgium  Germany  Spain  France  Greece  Ireland  Italy  Portugal\n",
       "2019-10     3.08     9.23   3.80    5.12   10.29     8.72   3.88      4.99\n",
       "2019-11     3.58     8.54   2.57    5.38   10.69     8.66   3.75      5.06\n",
       "2019-12     3.03     8.59   2.92    4.59   10.94     9.15   3.76      4.75\n",
       "2020-01     3.61     8.94   3.77    3.85   11.18     8.69   3.65      4.98\n",
       "2020-02     3.18     8.15   3.30    4.64   10.65     8.30   3.46      4.67"
      ]
     },
     "execution_count": 348,
     "metadata": {},
     "output_type": "execute_result"
    }
   ],
   "source": [
    "time_period = json['structure']['dimensions']['observation'][0]['values'] #counter\n",
    "\n",
    "\n",
    "dates = {k : v['id'] # id = month\n",
    "    for k,v in enumerate(time_period)}\n",
    "\n",
    "\n",
    "reference_area = [i['name'] # name = country\n",
    "                  for i in json['structure']['dimensions']['series'][1]['values']] \n",
    "\n",
    "df = pd.DataFrame()\n",
    "\n",
    "for i, area in enumerate(reference_area):\n",
    "    list = json['dataSets'][0]['series'][f'0:{i}:0:0:0:0:0:0:0:0']['observations'] # value\n",
    "    df[area] = pd.Series(\n",
    "        {dates[int(i)]: v[0] \n",
    "         for i, v in list.items() })\n",
    "\n",
    "   \n",
    "df.tail()"
   ]
  },
  {
   "cell_type": "markdown",
   "metadata": {},
   "source": [
    "<br><br><font color=\"darkblue\"> <div style=\"text-align: center\">\n",
    "## Distribution - Bank interest rates"
   ]
  },
  {
   "cell_type": "code",
   "execution_count": 346,
   "metadata": {},
   "outputs": [
    {
     "data": {
      "image/png": "[encoded data removed]",
      "text/plain": [
       "<Figure size 720x360 with 1 Axes>"
      ]
     },
     "metadata": {},
     "output_type": "display_data"
    }
   ],
   "source": [
    "with sns.axes_style('white'):\n",
    "    g = sns.catplot( data=df, aspect=2, kind=\"bar\", palette= \"BuPu\")\n",
    "    g.set_xticklabels(step=1)"
   ]
  },
  {
   "cell_type": "markdown",
   "metadata": {},
   "source": [
    "<br><br><font color=\"darkblue\"> <div style=\"text-align: center\">\n",
    "## Evolution Spain - Bank interest rates"
   ]
  },
  {
   "cell_type": "code",
   "execution_count": 327,
   "metadata": {},
   "outputs": [
    {
     "data": {
      "text/plain": [
       "<matplotlib.axes._subplots.AxesSubplot at 0x29d3cfddfd0>"
      ]
     },
     "execution_count": 327,
     "metadata": {},
     "output_type": "execute_result"
    },
    {
     "data": {
      "image/png": "[encoded data removed]",
      "text/plain": [
       "<Figure size 720x360 with 1 Axes>"
      ]
     },
     "metadata": {
      "needs_background": "light"
     },
     "output_type": "display_data"
    }
   ],
   "source": [
    "df['Spain'].plot(figsize = (10,5))"
   ]
  },
  {
   "cell_type": "code",
   "execution_count": 328,
   "metadata": {},
   "outputs": [
    {
     "data": {
      "text/html": [
       "<div>\n",
       "<style scoped>\n",
       "    .dataframe tbody tr th:only-of-type {\n",
       "        vertical-align: middle;\n",
       "    }\n",
       "\n",
       "    .dataframe tbody tr th {\n",
       "        vertical-align: top;\n",
       "    }\n",
       "\n",
       "    .dataframe thead th {\n",
       "        text-align: right;\n",
       "    }\n",
       "</style>\n",
       "<table border=\"1\" class=\"dataframe\">\n",
       "  <thead>\n",
       "    <tr style=\"text-align: right;\">\n",
       "      <th></th>\n",
       "      <th>Belgium</th>\n",
       "      <th>Germany</th>\n",
       "      <th>Spain</th>\n",
       "      <th>France</th>\n",
       "      <th>Greece</th>\n",
       "      <th>Ireland</th>\n",
       "      <th>Italy</th>\n",
       "      <th>Portugal</th>\n",
       "    </tr>\n",
       "  </thead>\n",
       "  <tbody>\n",
       "    <tr>\n",
       "      <th>max</th>\n",
       "      <td>7.64</td>\n",
       "      <td>9.68</td>\n",
       "      <td>12.13</td>\n",
       "      <td>8.79</td>\n",
       "      <td>11.33</td>\n",
       "      <td>10.39</td>\n",
       "      <td>11.21</td>\n",
       "      <td>8.79</td>\n",
       "    </tr>\n",
       "    <tr>\n",
       "      <th>min</th>\n",
       "      <td>2.17</td>\n",
       "      <td>3.30</td>\n",
       "      <td>2.57</td>\n",
       "      <td>3.78</td>\n",
       "      <td>6.34</td>\n",
       "      <td>3.65</td>\n",
       "      <td>3.23</td>\n",
       "      <td>4.67</td>\n",
       "    </tr>\n",
       "  </tbody>\n",
       "</table>\n",
       "</div>"
      ],
      "text/plain": [
       "     Belgium  Germany  Spain  France  Greece  Ireland  Italy  Portugal\n",
       "max     7.64     9.68  12.13    8.79   11.33    10.39  11.21      8.79\n",
       "min     2.17     3.30   2.57    3.78    6.34     3.65   3.23      4.67"
      ]
     },
     "execution_count": 328,
     "metadata": {},
     "output_type": "execute_result"
    }
   ],
   "source": [
    "df.agg(['max', 'min'])"
   ]
  },
  {
   "cell_type": "markdown",
   "metadata": {},
   "source": [
    "<font color='darkblue'><div style=\"text-align: center\">\n",
    "\n",
    "# *Population*\n",
    "\n",
    "*Unit: Millions of Persons*\n",
    "\n",
    "*Frequency: Annual*\n",
    "\n",
    "*ECB Last update\t2019-08-28 16:03:25.0*\n",
    "\n",
    "*Eurostat's first demographic estimates based on preliminary monthly data and national forecasts*\n",
    "<font>\n",
    "<br><br>"
   ]
  },
  {
   "cell_type": "code",
   "execution_count": 349,
   "metadata": {},
   "outputs": [],
   "source": [
    "url = 'https://sdw-wsrest.ecb.europa.eu/service/data/'\n",
    "headers  = {'Accept':'application/json'} \n",
    "key_population = 'ENA/A.N.DE+ES+FR+PT+IT+GR+BE+DE+GB+IE.W0.S1.S1._Z.POP._Z._Z._Z.PS._Z.N'\n",
    "json = requests.get(f'{url}{key_population}', headers =headers ).json()\n",
    "text = requests.get('{}{}'.format(url, key_population), headers=headers).text\n",
    "#print(text)"
   ]
  },
  {
   "cell_type": "code",
   "execution_count": 350,
   "metadata": {},
   "outputs": [
    {
     "data": {
      "text/html": [
       "<div>\n",
       "<style scoped>\n",
       "    .dataframe tbody tr th:only-of-type {\n",
       "        vertical-align: middle;\n",
       "    }\n",
       "\n",
       "    .dataframe tbody tr th {\n",
       "        vertical-align: top;\n",
       "    }\n",
       "\n",
       "    .dataframe thead th {\n",
       "        text-align: right;\n",
       "    }\n",
       "</style>\n",
       "<table border=\"1\" class=\"dataframe\">\n",
       "  <thead>\n",
       "    <tr style=\"text-align: right;\">\n",
       "      <th></th>\n",
       "      <th>Belgium</th>\n",
       "      <th>Germany</th>\n",
       "      <th>Spain</th>\n",
       "      <th>France</th>\n",
       "      <th>United Kingdom</th>\n",
       "      <th>Greece</th>\n",
       "      <th>Ireland</th>\n",
       "      <th>Italy</th>\n",
       "      <th>Portugal</th>\n",
       "    </tr>\n",
       "  </thead>\n",
       "  <tbody>\n",
       "    <tr>\n",
       "      <th>2015</th>\n",
       "      <td>60730.6</td>\n",
       "      <td>60730.6</td>\n",
       "      <td>60730.6</td>\n",
       "      <td>60730.6</td>\n",
       "      <td>60730.6</td>\n",
       "      <td>60730.6</td>\n",
       "      <td>60730.6</td>\n",
       "      <td>60730.6</td>\n",
       "      <td>60730.6</td>\n",
       "    </tr>\n",
       "    <tr>\n",
       "      <th>2016</th>\n",
       "      <td>60627.5</td>\n",
       "      <td>60627.5</td>\n",
       "      <td>60627.5</td>\n",
       "      <td>60627.5</td>\n",
       "      <td>60627.5</td>\n",
       "      <td>60627.5</td>\n",
       "      <td>60627.5</td>\n",
       "      <td>60627.5</td>\n",
       "      <td>60627.5</td>\n",
       "    </tr>\n",
       "    <tr>\n",
       "      <th>2017</th>\n",
       "      <td>60536.7</td>\n",
       "      <td>60536.7</td>\n",
       "      <td>60536.7</td>\n",
       "      <td>60536.7</td>\n",
       "      <td>60536.7</td>\n",
       "      <td>60536.7</td>\n",
       "      <td>60536.7</td>\n",
       "      <td>60536.7</td>\n",
       "      <td>60536.7</td>\n",
       "    </tr>\n",
       "    <tr>\n",
       "      <th>2018</th>\n",
       "      <td>60458.7</td>\n",
       "      <td>60458.7</td>\n",
       "      <td>60458.7</td>\n",
       "      <td>60458.7</td>\n",
       "      <td>60458.7</td>\n",
       "      <td>60458.7</td>\n",
       "      <td>60458.7</td>\n",
       "      <td>60458.7</td>\n",
       "      <td>60458.7</td>\n",
       "    </tr>\n",
       "    <tr>\n",
       "      <th>2019</th>\n",
       "      <td>60375.2</td>\n",
       "      <td>60375.2</td>\n",
       "      <td>60375.2</td>\n",
       "      <td>60375.2</td>\n",
       "      <td>60375.2</td>\n",
       "      <td>60375.2</td>\n",
       "      <td>60375.2</td>\n",
       "      <td>60375.2</td>\n",
       "      <td>60375.2</td>\n",
       "    </tr>\n",
       "  </tbody>\n",
       "</table>\n",
       "</div>"
      ],
      "text/plain": [
       "      Belgium  Germany    Spain   France  United Kingdom   Greece  Ireland  \\\n",
       "2015  60730.6  60730.6  60730.6  60730.6         60730.6  60730.6  60730.6   \n",
       "2016  60627.5  60627.5  60627.5  60627.5         60627.5  60627.5  60627.5   \n",
       "2017  60536.7  60536.7  60536.7  60536.7         60536.7  60536.7  60536.7   \n",
       "2018  60458.7  60458.7  60458.7  60458.7         60458.7  60458.7  60458.7   \n",
       "2019  60375.2  60375.2  60375.2  60375.2         60375.2  60375.2  60375.2   \n",
       "\n",
       "        Italy  Portugal  \n",
       "2015  60730.6   60730.6  \n",
       "2016  60627.5   60627.5  \n",
       "2017  60536.7   60536.7  \n",
       "2018  60458.7   60458.7  \n",
       "2019  60375.2   60375.2  "
      ]
     },
     "execution_count": 350,
     "metadata": {},
     "output_type": "execute_result"
    }
   ],
   "source": [
    "time_period = json['structure']['dimensions']['observation'][0]['values'] \n",
    "dates = {k : v['id'] for k,v in enumerate(time_period)} \n",
    "reference_area = [i['name'] for i in json['structure']['dimensions']['series'][2]['values']] \n",
    "\n",
    "df = pd.DataFrame()\n",
    "\n",
    "for k, v in enumerate(reference_area):\n",
    "    list = json['dataSets'][0]['series'][f'0:0:{i}:0:0:0:0:0:0:0:0:0:0:0']['observations'] \n",
    "    df[v] = pd.Series(\n",
    "        {dates[int(k)]: v[0] \n",
    "        for k, v in list.items()})\n",
    "\n",
    "df.tail()"
   ]
  },
  {
   "cell_type": "markdown",
   "metadata": {},
   "source": [
    "<br><br><font color=\"darkblue\"> <div style=\"text-align: center\">\n",
    "## Evolution Spain - Population"
   ]
  },
  {
   "cell_type": "code",
   "execution_count": 351,
   "metadata": {},
   "outputs": [
    {
     "data": {
      "text/plain": [
       "<matplotlib.axes._subplots.AxesSubplot at 0x29d3c83dcf8>"
      ]
     },
     "execution_count": 351,
     "metadata": {},
     "output_type": "execute_result"
    },
    {
     "data": {
      "image/png": "[encoded data removed]",
      "text/plain": [
       "<Figure size 720x360 with 1 Axes>"
      ]
     },
     "metadata": {
      "needs_background": "light"
     },
     "output_type": "display_data"
    }
   ],
   "source": [
    "df['Spain'].plot(figsize = (10,5))"
   ]
  },
  {
   "cell_type": "markdown",
   "metadata": {},
   "source": [
    "<font color='darkblue'> <div style=\"text-align: center\">\n",
    "\n",
    "# *Unemployment Rate*\n",
    "\n",
    "*Unemployment rates published by the European Commission (Eurostat) and conform to International Labour Organisation (ILO) guidelines. They refer to persons actively seeking work as a share of the labour force, using harmonised criteria and definitions.*\n",
    "\n",
    "*Frequency:\tMonthly*\n",
    "\n",
    "*Reference area: AMECO*\n",
    "\n",
    "*Unemployment rate (as a % of labour force)*\n",
    "<font>\n",
    "<br><br>"
   ]
  },
  {
   "cell_type": "code",
   "execution_count": 353,
   "metadata": {},
   "outputs": [],
   "source": [
    "url = 'https://sdw-wsrest.ecb.europa.eu/service/data/'\n",
    "headers  = {'Accept':'application/json'}\n",
    "key_unemployment_rate = 'STS/M.DE+ES+FR+PT+IT+GR+BE+DE+GB+IE.S.UNEH.RTT000.4.000'\n",
    "\n",
    "json = requests.get(f'{url}{key_unemployment_rate}', headers =headers ).json()\n",
    "text = requests.get('{}{}'.format(url, key_unemployment_rate), headers=headers).text\n",
    "#print(text)"
   ]
  },
  {
   "cell_type": "code",
   "execution_count": 354,
   "metadata": {},
   "outputs": [
    {
     "data": {
      "text/html": [
       "<div>\n",
       "<style scoped>\n",
       "    .dataframe tbody tr th:only-of-type {\n",
       "        vertical-align: middle;\n",
       "    }\n",
       "\n",
       "    .dataframe tbody tr th {\n",
       "        vertical-align: top;\n",
       "    }\n",
       "\n",
       "    .dataframe thead th {\n",
       "        text-align: right;\n",
       "    }\n",
       "</style>\n",
       "<table border=\"1\" class=\"dataframe\">\n",
       "  <thead>\n",
       "    <tr style=\"text-align: right;\">\n",
       "      <th></th>\n",
       "      <th>Belgium</th>\n",
       "      <th>Germany</th>\n",
       "      <th>Spain</th>\n",
       "      <th>France</th>\n",
       "      <th>United Kingdom</th>\n",
       "      <th>Greece</th>\n",
       "      <th>Ireland</th>\n",
       "      <th>Italy</th>\n",
       "      <th>Portugal</th>\n",
       "    </tr>\n",
       "  </thead>\n",
       "  <tbody>\n",
       "    <tr>\n",
       "      <th>2019-10</th>\n",
       "      <td>5.24</td>\n",
       "      <td>3.15</td>\n",
       "      <td>13.97</td>\n",
       "      <td>8.27</td>\n",
       "      <td>3.71</td>\n",
       "      <td>16.73</td>\n",
       "      <td>4.70</td>\n",
       "      <td>9.70</td>\n",
       "      <td>6.48</td>\n",
       "    </tr>\n",
       "    <tr>\n",
       "      <th>2019-11</th>\n",
       "      <td>5.22</td>\n",
       "      <td>3.18</td>\n",
       "      <td>13.82</td>\n",
       "      <td>8.20</td>\n",
       "      <td>3.65</td>\n",
       "      <td>16.65</td>\n",
       "      <td>4.67</td>\n",
       "      <td>9.70</td>\n",
       "      <td>6.67</td>\n",
       "    </tr>\n",
       "    <tr>\n",
       "      <th>2019-12</th>\n",
       "      <td>5.24</td>\n",
       "      <td>3.19</td>\n",
       "      <td>13.71</td>\n",
       "      <td>8.17</td>\n",
       "      <td>3.75</td>\n",
       "      <td>16.41</td>\n",
       "      <td>4.73</td>\n",
       "      <td>9.76</td>\n",
       "      <td>6.70</td>\n",
       "    </tr>\n",
       "    <tr>\n",
       "      <th>2020-01</th>\n",
       "      <td>5.18</td>\n",
       "      <td>3.19</td>\n",
       "      <td>13.66</td>\n",
       "      <td>8.16</td>\n",
       "      <td>3.83</td>\n",
       "      <td>16.40</td>\n",
       "      <td>4.79</td>\n",
       "      <td>9.81</td>\n",
       "      <td>6.72</td>\n",
       "    </tr>\n",
       "    <tr>\n",
       "      <th>2020-02</th>\n",
       "      <td>5.18</td>\n",
       "      <td>3.17</td>\n",
       "      <td>13.57</td>\n",
       "      <td>8.08</td>\n",
       "      <td>NaN</td>\n",
       "      <td>NaN</td>\n",
       "      <td>4.79</td>\n",
       "      <td>9.75</td>\n",
       "      <td>6.49</td>\n",
       "    </tr>\n",
       "  </tbody>\n",
       "</table>\n",
       "</div>"
      ],
      "text/plain": [
       "         Belgium  Germany  Spain  France  United Kingdom  Greece  Ireland  \\\n",
       "2019-10     5.24     3.15  13.97    8.27            3.71   16.73     4.70   \n",
       "2019-11     5.22     3.18  13.82    8.20            3.65   16.65     4.67   \n",
       "2019-12     5.24     3.19  13.71    8.17            3.75   16.41     4.73   \n",
       "2020-01     5.18     3.19  13.66    8.16            3.83   16.40     4.79   \n",
       "2020-02     5.18     3.17  13.57    8.08             NaN     NaN     4.79   \n",
       "\n",
       "         Italy  Portugal  \n",
       "2019-10   9.70      6.48  \n",
       "2019-11   9.70      6.67  \n",
       "2019-12   9.76      6.70  \n",
       "2020-01   9.81      6.72  \n",
       "2020-02   9.75      6.49  "
      ]
     },
     "execution_count": 354,
     "metadata": {},
     "output_type": "execute_result"
    }
   ],
   "source": [
    "time_period = json['structure']['dimensions']['observation'][0]['values'] #counter\n",
    "\n",
    "\n",
    "dates = {k : v['id'] # id = month\n",
    "    for k,v in enumerate(time_period)}\n",
    "\n",
    "\n",
    "reference_area = [i['name'] # name = country\n",
    "                  for i in json['structure']['dimensions']['series'][1]['values']] \n",
    "\n",
    "df = pd.DataFrame()\n",
    "\n",
    "for i, area in enumerate(reference_area):\n",
    "    list = json['dataSets'][0]['series'][f'0:{i}:0:0:0:0:0']['observations'] # value\n",
    "    df[area] = pd.Series(\n",
    "        {dates[int(i)]: v[0] \n",
    "         for i, v in list.items() })\n",
    "\n",
    "   \n",
    "df.tail()"
   ]
  },
  {
   "cell_type": "markdown",
   "metadata": {},
   "source": [
    "<br><br><font color=\"darkblue\"> <div style=\"text-align: center\">\n",
    "## Distribution - Unemployment Rate"
   ]
  },
  {
   "cell_type": "code",
   "execution_count": 355,
   "metadata": {},
   "outputs": [
    {
     "data": {
      "image/png": "[encoded data removed]",
      "text/plain": [
       "<Figure size 720x360 with 1 Axes>"
      ]
     },
     "metadata": {},
     "output_type": "display_data"
    }
   ],
   "source": [
    "with sns.axes_style('white'):\n",
    "    g = sns.catplot( data=df, aspect=2, kind=\"bar\", palette= \"BuPu\")\n",
    "    g.set_xticklabels(step=1)"
   ]
  },
  {
   "cell_type": "markdown",
   "metadata": {},
   "source": [
    "<br><br><font color=\"darkblue\"> <div style=\"text-align: center\">\n",
    "## Evolution Spain - Unemployment Rate"
   ]
  },
  {
   "cell_type": "code",
   "execution_count": 356,
   "metadata": {},
   "outputs": [
    {
     "data": {
      "text/plain": [
       "<matplotlib.axes._subplots.AxesSubplot at 0x29d3e481f28>"
      ]
     },
     "execution_count": 356,
     "metadata": {},
     "output_type": "execute_result"
    },
    {
     "data": {
      "image/png": "[encoded data removed]",
      "text/plain": [
       "<Figure size 720x360 with 1 Axes>"
      ]
     },
     "metadata": {
      "needs_background": "light"
     },
     "output_type": "display_data"
    }
   ],
   "source": [
    "df['Spain'].plot(figsize = (10,5))"
   ]
  },
  {
   "cell_type": "code",
   "execution_count": 344,
   "metadata": {},
   "outputs": [
    {
     "data": {
      "text/html": [
       "<div>\n",
       "<style scoped>\n",
       "    .dataframe tbody tr th:only-of-type {\n",
       "        vertical-align: middle;\n",
       "    }\n",
       "\n",
       "    .dataframe tbody tr th {\n",
       "        vertical-align: top;\n",
       "    }\n",
       "\n",
       "    .dataframe thead th {\n",
       "        text-align: right;\n",
       "    }\n",
       "</style>\n",
       "<table border=\"1\" class=\"dataframe\">\n",
       "  <thead>\n",
       "    <tr style=\"text-align: right;\">\n",
       "      <th></th>\n",
       "      <th>Belgium</th>\n",
       "      <th>Germany</th>\n",
       "      <th>Spain</th>\n",
       "      <th>France</th>\n",
       "      <th>United Kingdom</th>\n",
       "      <th>Greece</th>\n",
       "      <th>Ireland</th>\n",
       "      <th>Italy</th>\n",
       "      <th>Portugal</th>\n",
       "    </tr>\n",
       "  </thead>\n",
       "  <tbody>\n",
       "    <tr>\n",
       "      <th>max</th>\n",
       "      <td>10.12</td>\n",
       "      <td>11.24</td>\n",
       "      <td>26.29</td>\n",
       "      <td>10.96</td>\n",
       "      <td>11.34</td>\n",
       "      <td>27.89</td>\n",
       "      <td>16.90</td>\n",
       "      <td>13.05</td>\n",
       "      <td>17.43</td>\n",
       "    </tr>\n",
       "    <tr>\n",
       "      <th>min</th>\n",
       "      <td>5.18</td>\n",
       "      <td>3.10</td>\n",
       "      <td>7.93</td>\n",
       "      <td>7.24</td>\n",
       "      <td>3.65</td>\n",
       "      <td>7.35</td>\n",
       "      <td>3.93</td>\n",
       "      <td>5.82</td>\n",
       "      <td>4.75</td>\n",
       "    </tr>\n",
       "  </tbody>\n",
       "</table>\n",
       "</div>"
      ],
      "text/plain": [
       "     Belgium  Germany  Spain  France  United Kingdom  Greece  Ireland  Italy  \\\n",
       "max    10.12    11.24  26.29   10.96           11.34   27.89    16.90  13.05   \n",
       "min     5.18     3.10   7.93    7.24            3.65    7.35     3.93   5.82   \n",
       "\n",
       "     Portugal  \n",
       "max     17.43  \n",
       "min      4.75  "
      ]
     },
     "execution_count": 344,
     "metadata": {},
     "output_type": "execute_result"
    }
   ],
   "source": [
    "df.agg(['max', 'min'])"
   ]
  }
 ],
 "metadata": {
  "kernelspec": {
   "display_name": "Python 3",
   "language": "python",
   "name": "python3"
  },
  "language_info": {
   "codemirror_mode": {
    "name": "ipython",
    "version": 3
   },
   "file_extension": ".py",
   "mimetype": "text/x-python",
   "name": "python",
   "nbconvert_exporter": "python",
   "pygments_lexer": "ipython3",
   "version": "3.7.3"
  }
 },
 "nbformat": 4,
 "nbformat_minor": 2
}
